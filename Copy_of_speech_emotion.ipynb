{
  "metadata": {
    "kernelspec": {
      "language": "python",
      "display_name": "Python 3",
      "name": "python3"
    },
    "language_info": {
      "pygments_lexer": "ipython3",
      "nbconvert_exporter": "python",
      "version": "3.6.4",
      "file_extension": ".py",
      "codemirror_mode": {
        "name": "ipython",
        "version": 3
      },
      "name": "python",
      "mimetype": "text/x-python"
    },
    "kaggle": {
      "accelerator": "gpu",
      "dataSources": [
        {
          "sourceId": 1877714,
          "sourceType": "datasetVersion",
          "datasetId": 1118008
        }
      ],
      "dockerImageVersionId": 30203,
      "isInternetEnabled": false,
      "language": "python",
      "sourceType": "notebook",
      "isGpuEnabled": true
    },
    "colab": {
      "provenance": [],
      "include_colab_link": true
    }
  },
  "nbformat_minor": 0,
  "nbformat": 4,
  "cells": [
    {
      "cell_type": "markdown",
      "metadata": {
        "id": "view-in-github",
        "colab_type": "text"
      },
      "source": [
        "<a href=\"https://colab.research.google.com/github/ArushiGarg09/Speech-Emotion-recognition/blob/main/Copy_of_speech_emotion.ipynb\" target=\"_parent\"><img src=\"https://colab.research.google.com/assets/colab-badge.svg\" alt=\"Open In Colab\"/></a>"
      ]
    },
    {
      "source": [
        "\n",
        "# IMPORTANT: RUN THIS CELL IN ORDER TO IMPORT YOUR KAGGLE DATA SOURCES\n",
        "# TO THE CORRECT LOCATION (/kaggle/input) IN YOUR NOTEBOOK,\n",
        "# THEN FEEL FREE TO DELETE THIS CELL.\n",
        "# NOTE: THIS NOTEBOOK ENVIRONMENT DIFFERS FROM KAGGLE'S PYTHON\n",
        "# ENVIRONMENT SO THERE MAY BE MISSING LIBRARIES USED BY YOUR\n",
        "# NOTEBOOK.\n",
        "\n",
        "import os\n",
        "import sys\n",
        "from tempfile import NamedTemporaryFile\n",
        "from urllib.request import urlopen\n",
        "from urllib.parse import unquote, urlparse\n",
        "from urllib.error import HTTPError\n",
        "from zipfile import ZipFile\n",
        "import tarfile\n",
        "import shutil\n",
        "\n",
        "CHUNK_SIZE = 40960\n",
        "DATA_SOURCE_MAPPING = 'speech-emotion-recognition-en:https%3A%2F%2Fstorage.googleapis.com%2Fkaggle-data-sets%2F1118008%2F1877714%2Fbundle%2Farchive.zip%3FX-Goog-Algorithm%3DGOOG4-RSA-SHA256%26X-Goog-Credential%3Dgcp-kaggle-com%2540kaggle-161607.iam.gserviceaccount.com%252F20240704%252Fauto%252Fstorage%252Fgoog4_request%26X-Goog-Date%3D20240704T190929Z%26X-Goog-Expires%3D259200%26X-Goog-SignedHeaders%3Dhost%26X-Goog-Signature%3D7475df1881afc4b0eb6353e1707c4600b7fdc33d3ae2b7bf330a7337a7a4d4afea9b867f6b05a1a33af7de741620d23fb95f8f593cd8062f176c4bd15a8d19ef89eefa3ec4c20fde14c6b60fdbecd1264bb874c97beff4f3a87436970fbb9702eacbe020ea1edb956558cce5a6393895756fbf9add9dd95a25e5d509a7603c758342d9c63437b3418beed9d665b50b869c8079e801aa7ae0455f8941f3a48e98156c9cab323920f6259df2552de43850831521947938fbe150e6e128c49e06876bcf18d5eeb7911ac5f6191156a511aa3fb9482657343945911172555ecdbe5329a00cdeedf852cad0f00bc9dd3bcb048bb169cf43906e9ec71fef5643f346e0'\n",
        "\n",
        "KAGGLE_INPUT_PATH='/kaggle/input'\n",
        "KAGGLE_WORKING_PATH='/kaggle/working'\n",
        "KAGGLE_SYMLINK='kaggle'\n",
        "\n",
        "!umount /kaggle/input/ 2> /dev/null\n",
        "shutil.rmtree('/kaggle/input', ignore_errors=True)\n",
        "os.makedirs(KAGGLE_INPUT_PATH, 0o777, exist_ok=True)\n",
        "os.makedirs(KAGGLE_WORKING_PATH, 0o777, exist_ok=True)\n",
        "\n",
        "try:\n",
        "  os.symlink(KAGGLE_INPUT_PATH, os.path.join(\"..\", 'input'), target_is_directory=True)\n",
        "except FileExistsError:\n",
        "  pass\n",
        "try:\n",
        "  os.symlink(KAGGLE_WORKING_PATH, os.path.join(\"..\", 'working'), target_is_directory=True)\n",
        "except FileExistsError:\n",
        "  pass\n",
        "\n",
        "for data_source_mapping in DATA_SOURCE_MAPPING.split(','):\n",
        "    directory, download_url_encoded = data_source_mapping.split(':')\n",
        "    download_url = unquote(download_url_encoded)\n",
        "    filename = urlparse(download_url).path\n",
        "    destination_path = os.path.join(KAGGLE_INPUT_PATH, directory)\n",
        "    try:\n",
        "        with urlopen(download_url) as fileres, NamedTemporaryFile() as tfile:\n",
        "            total_length = fileres.headers['content-length']\n",
        "            print(f'Downloading {directory}, {total_length} bytes compressed')\n",
        "            dl = 0\n",
        "            data = fileres.read(CHUNK_SIZE)\n",
        "            while len(data) > 0:\n",
        "                dl += len(data)\n",
        "                tfile.write(data)\n",
        "                done = int(50 * dl / int(total_length))\n",
        "                sys.stdout.write(f\"\\r[{'=' * done}{' ' * (50-done)}] {dl} bytes downloaded\")\n",
        "                sys.stdout.flush()\n",
        "                data = fileres.read(CHUNK_SIZE)\n",
        "            if filename.endswith('.zip'):\n",
        "              with ZipFile(tfile) as zfile:\n",
        "                zfile.extractall(destination_path)\n",
        "            else:\n",
        "              with tarfile.open(tfile.name) as tarfile:\n",
        "                tarfile.extractall(destination_path)\n",
        "            print(f'\\nDownloaded and uncompressed: {directory}')\n",
        "    except HTTPError as e:\n",
        "        print(f'Failed to load (likely expired) {download_url} to path {destination_path}')\n",
        "        continue\n",
        "    except OSError as e:\n",
        "        print(f'Failed to load {download_url} to path {destination_path}')\n",
        "        continue\n",
        "\n",
        "print('Data source import complete.')\n"
      ],
      "metadata": {
        "id": "aVDyQOaCJuGl"
      },
      "cell_type": "code",
      "outputs": [],
      "execution_count": null
    },
    {
      "cell_type": "markdown",
      "source": [
        "# Speech Emotion Recognition With Convolutional Neural Network"
      ],
      "metadata": {
        "id": "8G1EmJQmJuGq"
      }
    },
    {
      "cell_type": "markdown",
      "source": [
        "<a id=\"1\"></a>\n",
        "# Including Libraries"
      ],
      "metadata": {
        "id": "nAMVrVxbJuGt"
      }
    },
    {
      "cell_type": "code",
      "source": [
        "# This Python 3 environment comes with many helpful analytics libraries installed\n",
        "# It is defined by the kaggle/python Docker image: https://github.com/kaggle/docker-python\n",
        "# For example, here's several helpful packages to load\n",
        "\n",
        "import numpy as np # linear algebra\n",
        "import pandas as pd # data processing, CSV file I/O (e.g. pd.read_csv)\n",
        "import librosa\n",
        "import librosa.display\n",
        "import matplotlib.pyplot as plt\n",
        "import plotly.graph_objects as go\n",
        "import plotly.express as px\n",
        "import plotly.figure_factory as ff\n",
        "import seaborn as sns\n",
        "import IPython\n",
        "import tensorflow.keras.layers as L\n",
        "import tensorflow as tf\n",
        "from tensorflow.keras.callbacks import EarlyStopping, ReduceLROnPlateau\n",
        "from keras.utils import np_utils\n",
        "from sklearn.model_selection import train_test_split\n",
        "from sklearn.metrics import confusion_matrix\n",
        "from sklearn.metrics import classification_report\n",
        "from sklearn.preprocessing import LabelEncoder,StandardScaler\n",
        "import re\n",
        "import itertools\n",
        "%matplotlib inline\n",
        "import warnings\n",
        "warnings.filterwarnings('ignore')\n",
        "# Input data files are available in the read-only \"../input/\" directory\n",
        "# For example, running this (by clicking run or pressing Shift+Enter) will list all files under the input directory\n",
        "\n",
        "import os\n",
        "\n",
        "# You can write up to 20GB to the current directory (/kaggle/working/) that gets preserved as output when you create a version using \"Save & Run All\"\n",
        "# You can also write temporary files to /kaggle/temp/, but they won't be saved outside of the current session"
      ],
      "metadata": {
        "_uuid": "8f2839f25d086af736a60e9eeb907d3b93b6e0e5",
        "_cell_guid": "b1076dfc-b9ad-4769-8c92-a6c4dae69d19",
        "execution": {
          "iopub.status.busy": "2022-07-01T06:49:46.473068Z",
          "iopub.execute_input": "2022-07-01T06:49:46.47379Z",
          "iopub.status.idle": "2022-07-01T06:50:00.292595Z",
          "shell.execute_reply.started": "2022-07-01T06:49:46.473685Z",
          "shell.execute_reply": "2022-07-01T06:50:00.291134Z"
        },
        "trusted": true,
        "id": "ywBAqppzJuGt"
      },
      "execution_count": null,
      "outputs": []
    },
    {
      "cell_type": "markdown",
      "source": [
        "<a id=\"2\"></a>\n",
        "# Including the Datasets"
      ],
      "metadata": {
        "id": "HFc_ysAZJuGu"
      }
    },
    {
      "cell_type": "code",
      "source": [
        "Crema_Path='../input/speech-emotion-recognition-en/Crema/'\n",
        "Ravdess_Path='../input/speech-emotion-recognition-en/Ravdess/audio_speech_actors_01-24'\n",
        "Savee_Path='../input/speech-emotion-recognition-en/Savee/'\n",
        "Tess_Path='../input/speech-emotion-recognition-en/Tess/'"
      ],
      "metadata": {
        "execution": {
          "iopub.status.busy": "2022-07-01T06:51:08.746781Z",
          "iopub.execute_input": "2022-07-01T06:51:08.747833Z",
          "iopub.status.idle": "2022-07-01T06:51:08.754674Z",
          "shell.execute_reply.started": "2022-07-01T06:51:08.747759Z",
          "shell.execute_reply": "2022-07-01T06:51:08.75327Z"
        },
        "trusted": true,
        "id": "PVseR4HGJuGu"
      },
      "execution_count": null,
      "outputs": []
    },
    {
      "cell_type": "markdown",
      "source": [
        "<a id=\"3\"></a>\n",
        "# Data Analyze"
      ],
      "metadata": {
        "id": "IuBAz_fTJuGv"
      }
    },
    {
      "cell_type": "code",
      "source": [
        "crema=[]\n",
        "for wav in os.listdir(Crema_Path):\n",
        "    emotion=wav.partition(\".wav\")[0].split('_')\n",
        "    if emotion[2]=='SAD':\n",
        "        crema.append(('sad',Crema_Path+'/'+wav))\n",
        "    elif emotion[2]=='ANG':\n",
        "        crema.append(('angry',Crema_Path+'/'+wav))\n",
        "    elif emotion[2]=='DIS':\n",
        "        crema.append(('disgust',Crema_Path+'/'+wav))\n",
        "    elif emotion[2]=='FEA':\n",
        "        crema.append(('fear',Crema_Path+'/'+wav))\n",
        "    elif emotion[2]=='HAP':\n",
        "        crema.append(('happy',Crema_Path+'/'+wav))\n",
        "    elif emotion[2]=='NEU':\n",
        "        crema.append(('neutral',Crema_Path+'/'+wav))\n",
        "    else:\n",
        "        crema.append(('unknown',Crema_Path+'/'+wav))\n",
        "Crema_df=pd.DataFrame.from_dict(crema)\n",
        "Crema_df.rename(columns={0:'Emotion',1:'File_Path'},inplace=True)\n",
        "Crema_df.head()"
      ],
      "metadata": {
        "execution": {
          "iopub.status.busy": "2022-07-01T06:51:10.050559Z",
          "iopub.execute_input": "2022-07-01T06:51:10.050969Z",
          "iopub.status.idle": "2022-07-01T06:51:10.488245Z",
          "shell.execute_reply.started": "2022-07-01T06:51:10.050937Z",
          "shell.execute_reply": "2022-07-01T06:51:10.487013Z"
        },
        "trusted": true,
        "id": "_LjzNuEQJuGv"
      },
      "execution_count": null,
      "outputs": []
    },
    {
      "cell_type": "code",
      "source": [
        "Crema_df['Emotion'].unique()"
      ],
      "metadata": {
        "execution": {
          "iopub.status.busy": "2022-07-01T06:51:11.544557Z",
          "iopub.execute_input": "2022-07-01T06:51:11.544958Z",
          "iopub.status.idle": "2022-07-01T06:51:11.5626Z",
          "shell.execute_reply.started": "2022-07-01T06:51:11.54493Z",
          "shell.execute_reply": "2022-07-01T06:51:11.561231Z"
        },
        "trusted": true,
        "id": "j95X01OTJuGw"
      },
      "execution_count": null,
      "outputs": []
    },
    {
      "cell_type": "code",
      "source": [
        "ravdess=[]\n",
        "for directory in os.listdir(Ravdess_Path):\n",
        "    actors=os.listdir(os.path.join(Ravdess_Path,directory))\n",
        "    for wav in actors:\n",
        "        emotion=wav.partition('.wav')[0].split('-')\n",
        "        emotion_number=int(emotion[2])\n",
        "        ravdess.append((emotion_number,os.path.join(Ravdess_Path,directory,wav)))\n",
        "Ravdess_df=pd.DataFrame.from_dict(ravdess)\n",
        "Ravdess_df.rename(columns={0:'Emotion',1:'File_Path'},inplace=True)\n",
        "Ravdess_df['Emotion'].replace({1:'neutral', 2:'neutral', 3:'happy', 4:'sad', 5:'angry', 6:'fear', 7:'disgust', 8:'surprise'},inplace=True)\n",
        "Ravdess_df.head()"
      ],
      "metadata": {
        "execution": {
          "iopub.status.busy": "2022-07-01T06:51:12.695187Z",
          "iopub.execute_input": "2022-07-01T06:51:12.696032Z",
          "iopub.status.idle": "2022-07-01T06:51:13.149187Z",
          "shell.execute_reply.started": "2022-07-01T06:51:12.695999Z",
          "shell.execute_reply": "2022-07-01T06:51:13.147835Z"
        },
        "trusted": true,
        "id": "CUK_tB-6JuGx"
      },
      "execution_count": null,
      "outputs": []
    },
    {
      "cell_type": "code",
      "source": [
        "Ravdess_df['Emotion'].unique()"
      ],
      "metadata": {
        "execution": {
          "iopub.status.busy": "2022-07-01T06:51:13.448358Z",
          "iopub.execute_input": "2022-07-01T06:51:13.449098Z",
          "iopub.status.idle": "2022-07-01T06:51:13.458045Z",
          "shell.execute_reply.started": "2022-07-01T06:51:13.449053Z",
          "shell.execute_reply": "2022-07-01T06:51:13.456662Z"
        },
        "trusted": true,
        "id": "mSRdYBmhJuGx"
      },
      "execution_count": null,
      "outputs": []
    },
    {
      "cell_type": "code",
      "source": [
        "savee=[]\n",
        "for wav in os.listdir(Savee_Path):\n",
        "    emo=wav.partition('.wav')[0].split('_')[1].replace(r'[0-9]','')\n",
        "    emotion=re.split(r'[0-9]',emo)[0]\n",
        "    if emotion=='a':\n",
        "        savee.append(('angry',Savee_Path+'/'+wav))\n",
        "    elif emotion=='d':\n",
        "        savee.append(('disgust',Savee_Path+'/'+wav))\n",
        "    elif emotion=='f':\n",
        "        savee.append(('fear',Savee_Path+'/'+wav))\n",
        "    elif emotion=='h':\n",
        "        savee.append(('happy',Savee_Path+'/'+wav))\n",
        "    elif emotion=='n':\n",
        "        savee.append(('neutral',Savee_Path+'/'+wav))\n",
        "    elif emotion=='sa':\n",
        "        savee.append(('sad',Savee_Path+'/'+wav))\n",
        "    elif emotion=='su':\n",
        "        savee.append(('surprise',Savee_Path+'/'+wav))\n",
        "Savee_df=pd.DataFrame.from_dict(savee)\n",
        "Savee_df.rename(columns={0:'Emotion',1:'File_Path'},inplace=True)\n",
        "Savee_df.head()"
      ],
      "metadata": {
        "execution": {
          "iopub.status.busy": "2022-07-01T06:51:14.436487Z",
          "iopub.execute_input": "2022-07-01T06:51:14.437629Z",
          "iopub.status.idle": "2022-07-01T06:51:14.621331Z",
          "shell.execute_reply.started": "2022-07-01T06:51:14.437587Z",
          "shell.execute_reply": "2022-07-01T06:51:14.619847Z"
        },
        "trusted": true,
        "id": "PMlV53xsJuGx"
      },
      "execution_count": null,
      "outputs": []
    },
    {
      "cell_type": "code",
      "source": [
        "Savee_df['Emotion'].unique()"
      ],
      "metadata": {
        "execution": {
          "iopub.status.busy": "2022-07-01T06:51:15.121198Z",
          "iopub.execute_input": "2022-07-01T06:51:15.121616Z",
          "iopub.status.idle": "2022-07-01T06:51:15.132274Z",
          "shell.execute_reply.started": "2022-07-01T06:51:15.121565Z",
          "shell.execute_reply": "2022-07-01T06:51:15.130832Z"
        },
        "trusted": true,
        "id": "cZc6JmckJuGy"
      },
      "execution_count": null,
      "outputs": []
    },
    {
      "cell_type": "code",
      "source": [
        "tess=[]\n",
        "for directory in os.listdir(Tess_Path):\n",
        "    for wav in os.listdir(os.path.join(Tess_Path,directory)):\n",
        "        emotion=wav.partition('.wav')[0].split('_')\n",
        "        if emotion[2]=='ps':\n",
        "            tess.append(('surprise',os.path.join(Tess_Path,directory,wav)))\n",
        "        else:\n",
        "            tess.append((emotion[2],os.path.join(Tess_Path,directory,wav)))\n",
        "Tess_df=pd.DataFrame.from_dict(tess)\n",
        "Tess_df.rename(columns={0:'Emotion',1:'File_Path'},inplace=True)\n",
        "Tess_df.head()"
      ],
      "metadata": {
        "execution": {
          "iopub.status.busy": "2022-07-01T06:51:15.811495Z",
          "iopub.execute_input": "2022-07-01T06:51:15.812712Z",
          "iopub.status.idle": "2022-07-01T06:51:16.62067Z",
          "shell.execute_reply.started": "2022-07-01T06:51:15.812669Z",
          "shell.execute_reply": "2022-07-01T06:51:16.619302Z"
        },
        "trusted": true,
        "id": "VeNTdgANJuGy"
      },
      "execution_count": null,
      "outputs": []
    },
    {
      "cell_type": "code",
      "source": [
        "Tess_df['Emotion'].unique()"
      ],
      "metadata": {
        "execution": {
          "iopub.status.busy": "2022-07-01T06:51:16.62454Z",
          "iopub.execute_input": "2022-07-01T06:51:16.624947Z",
          "iopub.status.idle": "2022-07-01T06:51:16.634987Z",
          "shell.execute_reply.started": "2022-07-01T06:51:16.624917Z",
          "shell.execute_reply": "2022-07-01T06:51:16.63355Z"
        },
        "trusted": true,
        "id": "9iDTS-GoJuGy"
      },
      "execution_count": null,
      "outputs": []
    },
    {
      "cell_type": "code",
      "source": [
        "main_df=pd.concat([Crema_df,Ravdess_df,Savee_df,Tess_df],axis=0)\n",
        "main_df.shape"
      ],
      "metadata": {
        "execution": {
          "iopub.status.busy": "2022-07-01T06:51:17.054308Z",
          "iopub.execute_input": "2022-07-01T06:51:17.055659Z",
          "iopub.status.idle": "2022-07-01T06:51:17.081003Z",
          "shell.execute_reply.started": "2022-07-01T06:51:17.055614Z",
          "shell.execute_reply": "2022-07-01T06:51:17.079654Z"
        },
        "trusted": true,
        "id": "NTsr-mg0JuGy"
      },
      "execution_count": null,
      "outputs": []
    },
    {
      "cell_type": "code",
      "source": [
        "main_df.head(15)"
      ],
      "metadata": {
        "execution": {
          "iopub.status.busy": "2022-07-01T06:51:17.690313Z",
          "iopub.execute_input": "2022-07-01T06:51:17.691118Z",
          "iopub.status.idle": "2022-07-01T06:51:17.709576Z",
          "shell.execute_reply.started": "2022-07-01T06:51:17.691077Z",
          "shell.execute_reply": "2022-07-01T06:51:17.708452Z"
        },
        "trusted": true,
        "id": "EmUK1hsxJuGy"
      },
      "execution_count": null,
      "outputs": []
    },
    {
      "cell_type": "code",
      "source": [
        "main_df.tail(15)"
      ],
      "metadata": {
        "execution": {
          "iopub.status.busy": "2022-07-01T06:51:18.281932Z",
          "iopub.execute_input": "2022-07-01T06:51:18.282811Z",
          "iopub.status.idle": "2022-07-01T06:51:18.296734Z",
          "shell.execute_reply.started": "2022-07-01T06:51:18.282739Z",
          "shell.execute_reply": "2022-07-01T06:51:18.295367Z"
        },
        "trusted": true,
        "id": "RDJ4P6m7JuGz"
      },
      "execution_count": null,
      "outputs": []
    },
    {
      "cell_type": "code",
      "source": [
        "plt.figure(figsize=(12,6))\n",
        "plt.title('Emotions Counts')\n",
        "emotions=sns.countplot(x='Emotion',data=main_df,palette='Set2')\n",
        "emotions.set_xticklabels(emotions.get_xticklabels(),rotation=45)\n",
        "plt.show()"
      ],
      "metadata": {
        "execution": {
          "iopub.status.busy": "2022-07-01T06:51:19.037371Z",
          "iopub.execute_input": "2022-07-01T06:51:19.038254Z",
          "iopub.status.idle": "2022-07-01T06:51:19.412397Z",
          "shell.execute_reply.started": "2022-07-01T06:51:19.038211Z",
          "shell.execute_reply": "2022-07-01T06:51:19.410619Z"
        },
        "trusted": true,
        "id": "9pfjuUgqJuGz"
      },
      "execution_count": null,
      "outputs": []
    },
    {
      "cell_type": "code",
      "source": [
        "emotion_names=main_df['Emotion'].unique()"
      ],
      "metadata": {
        "execution": {
          "iopub.status.busy": "2022-07-01T06:51:19.76762Z",
          "iopub.execute_input": "2022-07-01T06:51:19.76866Z",
          "iopub.status.idle": "2022-07-01T06:51:19.776989Z",
          "shell.execute_reply.started": "2022-07-01T06:51:19.768614Z",
          "shell.execute_reply": "2022-07-01T06:51:19.77583Z"
        },
        "trusted": true,
        "id": "7vIM0aZsJuGz"
      },
      "execution_count": null,
      "outputs": []
    },
    {
      "cell_type": "code",
      "source": [
        "colors={'disgust':'#804E2D','happy':'#F19C0E','sad':'#478FB8','neutral':'#4CB847','fear':'#7D55AA','angry':'#C00808','surprise':'#EE00FF'}"
      ],
      "metadata": {
        "execution": {
          "iopub.status.busy": "2022-07-01T06:51:20.602686Z",
          "iopub.execute_input": "2022-07-01T06:51:20.603197Z",
          "iopub.status.idle": "2022-07-01T06:51:20.609851Z",
          "shell.execute_reply.started": "2022-07-01T06:51:20.603168Z",
          "shell.execute_reply": "2022-07-01T06:51:20.607527Z"
        },
        "trusted": true,
        "id": "Ero-v2enJuGz"
      },
      "execution_count": null,
      "outputs": []
    },
    {
      "cell_type": "code",
      "source": [
        "def wave_plot(data,sr,emotion,color):\n",
        "    plt.figure(figsize=(12,5))\n",
        "    plt.title(f'{emotion} emotion for waveplot',size=17)\n",
        "    librosa.display.waveshow(y=data,sr=sr,color=color)"
      ],
      "metadata": {
        "execution": {
          "iopub.status.busy": "2022-07-01T06:51:21.369654Z",
          "iopub.execute_input": "2022-07-01T06:51:21.369993Z",
          "iopub.status.idle": "2022-07-01T06:51:21.378797Z",
          "shell.execute_reply.started": "2022-07-01T06:51:21.369966Z",
          "shell.execute_reply": "2022-07-01T06:51:21.377474Z"
        },
        "trusted": true,
        "id": "oAKIFtchJuGz"
      },
      "execution_count": null,
      "outputs": []
    },
    {
      "cell_type": "code",
      "source": [
        "def spectogram(data,sr,emotion):\n",
        "    audio=librosa.stft(data)\n",
        "    audio_db=librosa.amplitude_to_db(abs(audio))\n",
        "    plt.figure(figsize=(12,5))\n",
        "    plt.title(f'{emotion} emotion for spectogram',size=17)\n",
        "    librosa.display.specshow(audio_db,sr=sr,x_axis='time',y_axis='hz')"
      ],
      "metadata": {
        "execution": {
          "iopub.status.busy": "2022-07-01T06:51:22.307162Z",
          "iopub.execute_input": "2022-07-01T06:51:22.307546Z",
          "iopub.status.idle": "2022-07-01T06:51:22.315709Z",
          "shell.execute_reply.started": "2022-07-01T06:51:22.307518Z",
          "shell.execute_reply": "2022-07-01T06:51:22.313711Z"
        },
        "trusted": true,
        "id": "Xak31senJuG0"
      },
      "execution_count": null,
      "outputs": []
    },
    {
      "cell_type": "code",
      "source": [
        "audio_path=[]\n",
        "for emotion in emotion_names:\n",
        "    path=np.array(main_df['File_Path'][main_df['Emotion']==emotion])[1]\n",
        "    data,sr=librosa.load(path)\n",
        "    wave_plot(data,sr,emotion,colors[emotion])\n",
        "    spectogram(data,sr,emotion)\n",
        "    audio_path.append(path)"
      ],
      "metadata": {
        "execution": {
          "iopub.status.busy": "2022-07-01T06:51:23.043677Z",
          "iopub.execute_input": "2022-07-01T06:51:23.044953Z",
          "iopub.status.idle": "2022-07-01T06:51:29.439099Z",
          "shell.execute_reply.started": "2022-07-01T06:51:23.044907Z",
          "shell.execute_reply": "2022-07-01T06:51:29.437818Z"
        },
        "trusted": true,
        "id": "v2-gXTgLJuG0"
      },
      "execution_count": null,
      "outputs": []
    },
    {
      "cell_type": "code",
      "source": [
        "print('Disgust Audio Sample\\n')\n",
        "IPython.display.Audio(audio_path[0])"
      ],
      "metadata": {
        "execution": {
          "iopub.status.busy": "2022-07-01T06:51:29.441748Z",
          "iopub.execute_input": "2022-07-01T06:51:29.442522Z",
          "iopub.status.idle": "2022-07-01T06:51:29.460924Z",
          "shell.execute_reply.started": "2022-07-01T06:51:29.442477Z",
          "shell.execute_reply": "2022-07-01T06:51:29.459467Z"
        },
        "trusted": true,
        "id": "J6OMjI79JuG0"
      },
      "execution_count": null,
      "outputs": []
    },
    {
      "cell_type": "code",
      "source": [
        "print('Happy Audio Sample\\n')\n",
        "IPython.display.Audio(audio_path[1])"
      ],
      "metadata": {
        "execution": {
          "iopub.status.busy": "2022-07-01T06:51:29.46267Z",
          "iopub.execute_input": "2022-07-01T06:51:29.463587Z",
          "iopub.status.idle": "2022-07-01T06:51:29.479849Z",
          "shell.execute_reply.started": "2022-07-01T06:51:29.463546Z",
          "shell.execute_reply": "2022-07-01T06:51:29.478014Z"
        },
        "trusted": true,
        "id": "3z_FbxoaJuG0"
      },
      "execution_count": null,
      "outputs": []
    },
    {
      "cell_type": "code",
      "source": [
        "print('Sad Audio Sample\\n')\n",
        "IPython.display.Audio(audio_path[2])"
      ],
      "metadata": {
        "execution": {
          "iopub.status.busy": "2022-07-01T06:51:29.483177Z",
          "iopub.execute_input": "2022-07-01T06:51:29.484182Z",
          "iopub.status.idle": "2022-07-01T06:51:29.501258Z",
          "shell.execute_reply.started": "2022-07-01T06:51:29.484123Z",
          "shell.execute_reply": "2022-07-01T06:51:29.499741Z"
        },
        "trusted": true,
        "id": "hkZNRc3UJuG0"
      },
      "execution_count": null,
      "outputs": []
    },
    {
      "cell_type": "code",
      "source": [
        "print('Neutral Audio Sample\\n')\n",
        "IPython.display.Audio(audio_path[3])"
      ],
      "metadata": {
        "execution": {
          "iopub.status.busy": "2022-07-01T06:51:29.503101Z",
          "iopub.execute_input": "2022-07-01T06:51:29.5039Z",
          "iopub.status.idle": "2022-07-01T06:51:29.517199Z",
          "shell.execute_reply.started": "2022-07-01T06:51:29.503855Z",
          "shell.execute_reply": "2022-07-01T06:51:29.515817Z"
        },
        "trusted": true,
        "id": "FpGjnXqPJuG1"
      },
      "execution_count": null,
      "outputs": []
    },
    {
      "cell_type": "code",
      "source": [
        "print('Fear Audio Sample\\n')\n",
        "IPython.display.Audio(audio_path[4])"
      ],
      "metadata": {
        "execution": {
          "iopub.status.busy": "2022-07-01T06:51:29.519137Z",
          "iopub.execute_input": "2022-07-01T06:51:29.520224Z",
          "iopub.status.idle": "2022-07-01T06:51:29.533412Z",
          "shell.execute_reply.started": "2022-07-01T06:51:29.520185Z",
          "shell.execute_reply": "2022-07-01T06:51:29.532045Z"
        },
        "trusted": true,
        "id": "GRBRaVpvJuG1"
      },
      "execution_count": null,
      "outputs": []
    },
    {
      "cell_type": "code",
      "source": [
        "print('Angry Audio Sample\\n')\n",
        "IPython.display.Audio(audio_path[5])"
      ],
      "metadata": {
        "execution": {
          "iopub.status.busy": "2022-07-01T06:51:29.53562Z",
          "iopub.execute_input": "2022-07-01T06:51:29.536496Z",
          "iopub.status.idle": "2022-07-01T06:51:29.549455Z",
          "shell.execute_reply.started": "2022-07-01T06:51:29.536456Z",
          "shell.execute_reply": "2022-07-01T06:51:29.547603Z"
        },
        "trusted": true,
        "id": "wgK8vmuQJuG1"
      },
      "execution_count": null,
      "outputs": []
    },
    {
      "cell_type": "code",
      "source": [
        "print('Surprise Audio Sample\\n')\n",
        "IPython.display.Audio(audio_path[6])"
      ],
      "metadata": {
        "execution": {
          "iopub.status.busy": "2022-07-01T06:51:29.551846Z",
          "iopub.execute_input": "2022-07-01T06:51:29.552259Z",
          "iopub.status.idle": "2022-07-01T06:51:29.572712Z",
          "shell.execute_reply.started": "2022-07-01T06:51:29.552222Z",
          "shell.execute_reply": "2022-07-01T06:51:29.571644Z"
        },
        "trusted": true,
        "id": "qvYtmY3kJuG1"
      },
      "execution_count": null,
      "outputs": []
    },
    {
      "cell_type": "markdown",
      "source": [
        "<a id=\"7\"></a>\n",
        "## Audio Augmentation"
      ],
      "metadata": {
        "id": "tcGs4VosJuG1"
      }
    },
    {
      "cell_type": "code",
      "source": [
        "def add_noise(data,random=False,rate=0.035,threshold=0.075):\n",
        "    if random:\n",
        "        rate=np.random.random()*threshold\n",
        "    noise=rate*np.random.uniform()*np.amax(data)\n",
        "    augmented_data=data+noise*np.random.normal(size=data.shape[0])\n",
        "    return augmented_data\n",
        "\n",
        "def shifting(data,rate=1000):\n",
        "    augmented_data=int(np.random.uniform(low=-5,high=5)*rate)\n",
        "    augmented_data=np.roll(data,augmented_data)\n",
        "    return augmented_data\n",
        "\n",
        "def pitching(data,sr,pitch_factor=0.7,random=False):\n",
        "    if random:\n",
        "        pitch_factor=np.random.random() * pitch_factor\n",
        "    return librosa.effects.pitch_shift(data,sr,pitch_factor)\n",
        "\n",
        "def streching(data,rate=0.8):\n",
        "    return librosa.effects.time_stretch(data,rate)\n"
      ],
      "metadata": {
        "execution": {
          "iopub.status.busy": "2022-07-01T06:51:36.975653Z",
          "iopub.execute_input": "2022-07-01T06:51:36.976101Z",
          "iopub.status.idle": "2022-07-01T06:51:36.98801Z",
          "shell.execute_reply.started": "2022-07-01T06:51:36.976071Z",
          "shell.execute_reply": "2022-07-01T06:51:36.986641Z"
        },
        "trusted": true,
        "id": "WFZSqRwuJuG2"
      },
      "execution_count": null,
      "outputs": []
    },
    {
      "cell_type": "code",
      "source": [
        "data,sr=librosa.load(audio_path[6])"
      ],
      "metadata": {
        "execution": {
          "iopub.status.busy": "2022-07-01T06:51:37.656925Z",
          "iopub.execute_input": "2022-07-01T06:51:37.657256Z",
          "iopub.status.idle": "2022-07-01T06:51:37.883359Z",
          "shell.execute_reply.started": "2022-07-01T06:51:37.657228Z",
          "shell.execute_reply": "2022-07-01T06:51:37.881967Z"
        },
        "trusted": true,
        "id": "iuXWEPH6JuG2"
      },
      "execution_count": null,
      "outputs": []
    },
    {
      "cell_type": "markdown",
      "source": [
        "<a id=\"4\"></a>\n",
        "### Original Audio"
      ],
      "metadata": {
        "id": "cJP0qxZxJuG2"
      }
    },
    {
      "cell_type": "code",
      "source": [
        "plt.figure(figsize=(12,5))\n",
        "librosa.display.waveshow(data,sr,color='#EE00FF')\n",
        "IPython.display.Audio(audio_path[6])"
      ],
      "metadata": {
        "execution": {
          "iopub.status.busy": "2022-07-01T06:51:38.674083Z",
          "iopub.execute_input": "2022-07-01T06:51:38.675218Z",
          "iopub.status.idle": "2022-07-01T06:51:39.085816Z",
          "shell.execute_reply.started": "2022-07-01T06:51:38.675161Z",
          "shell.execute_reply": "2022-07-01T06:51:39.084426Z"
        },
        "trusted": true,
        "id": "ek0Lh9dRJuG2"
      },
      "execution_count": null,
      "outputs": []
    },
    {
      "cell_type": "markdown",
      "source": [
        "<a id=\"8\"></a>\n",
        "### Noised Audio"
      ],
      "metadata": {
        "id": "qCimt7bgJuG2"
      }
    },
    {
      "cell_type": "code",
      "source": [
        "noised_audio=add_noise(data)\n",
        "plt.figure(figsize=(12,5))\n",
        "librosa.display.waveshow(noised_audio,sr,color='#EE00FF')\n",
        "IPython.display.Audio(noised_audio,rate=sr)"
      ],
      "metadata": {
        "execution": {
          "iopub.status.busy": "2022-07-01T06:51:42.782373Z",
          "iopub.execute_input": "2022-07-01T06:51:42.782801Z",
          "iopub.status.idle": "2022-07-01T06:51:43.19918Z",
          "shell.execute_reply.started": "2022-07-01T06:51:42.782747Z",
          "shell.execute_reply": "2022-07-01T06:51:43.19796Z"
        },
        "trusted": true,
        "id": "UbkzbUbrJuG2"
      },
      "execution_count": null,
      "outputs": []
    },
    {
      "cell_type": "markdown",
      "source": [
        "<a id=\"10\"></a>\n",
        "### Streched Audio"
      ],
      "metadata": {
        "id": "93HOQmCuJuG3"
      }
    },
    {
      "cell_type": "code",
      "source": [
        "stretched_audio=streching(data)\n",
        "plt.figure(figsize=(12,5))\n",
        "librosa.display.waveshow(stretched_audio,sr,color='#EE00FF')\n",
        "IPython.display.Audio(stretched_audio,rate=sr)"
      ],
      "metadata": {
        "execution": {
          "iopub.status.busy": "2022-07-01T06:51:43.530696Z",
          "iopub.execute_input": "2022-07-01T06:51:43.532003Z",
          "iopub.status.idle": "2022-07-01T06:51:44.43938Z",
          "shell.execute_reply.started": "2022-07-01T06:51:43.531957Z",
          "shell.execute_reply": "2022-07-01T06:51:44.437922Z"
        },
        "trusted": true,
        "id": "0aoDBZoLJuG7"
      },
      "execution_count": null,
      "outputs": []
    },
    {
      "cell_type": "markdown",
      "source": [
        "<a id=\"11\"></a>\n",
        "### Shifted Audio"
      ],
      "metadata": {
        "id": "2t1-guLOJuG8"
      }
    },
    {
      "cell_type": "code",
      "source": [
        "shifted_audio=shifting(data)\n",
        "plt.figure(figsize=(12,5))\n",
        "librosa.display.waveshow(shifted_audio,sr,color='#EE00FF')\n",
        "IPython.display.Audio(shifted_audio,rate=sr)"
      ],
      "metadata": {
        "execution": {
          "iopub.status.busy": "2022-07-01T06:51:44.618045Z",
          "iopub.execute_input": "2022-07-01T06:51:44.618374Z",
          "iopub.status.idle": "2022-07-01T06:51:45.021885Z",
          "shell.execute_reply.started": "2022-07-01T06:51:44.618346Z",
          "shell.execute_reply": "2022-07-01T06:51:45.020299Z"
        },
        "trusted": true,
        "id": "7iicoEl0JuG8"
      },
      "execution_count": null,
      "outputs": []
    },
    {
      "cell_type": "markdown",
      "source": [
        "<a id=\"12\"></a>\n",
        "### Pitched Audio"
      ],
      "metadata": {
        "id": "6YUkY2MoJuG8"
      }
    },
    {
      "cell_type": "code",
      "source": [
        "pitched_audio=pitching(data,sr)\n",
        "plt.figure(figsize=(12,5))\n",
        "librosa.display.waveshow(pitched_audio,sr,color='#EE00FF')\n",
        "IPython.display.Audio(pitched_audio,rate=sr)"
      ],
      "metadata": {
        "execution": {
          "iopub.status.busy": "2022-07-01T06:51:47.523566Z",
          "iopub.execute_input": "2022-07-01T06:51:47.524677Z",
          "iopub.status.idle": "2022-07-01T06:51:48.088372Z",
          "shell.execute_reply.started": "2022-07-01T06:51:47.524618Z",
          "shell.execute_reply": "2022-07-01T06:51:48.086832Z"
        },
        "trusted": true,
        "id": "oYPEnTV2JuG9"
      },
      "execution_count": null,
      "outputs": []
    },
    {
      "cell_type": "markdown",
      "source": [
        "<a id=\"13\"></a>\n",
        "## Feature Extraction"
      ],
      "metadata": {
        "id": "UyaqgXzaJuG9"
      }
    },
    {
      "cell_type": "code",
      "source": [
        "def zcr(data,frame_length,hop_length):\n",
        "    zcr=librosa.feature.zero_crossing_rate(data,frame_length=frame_length,hop_length=hop_length)\n",
        "    return np.squeeze(zcr)\n",
        "def rmse(data,frame_length=2048,hop_length=512):\n",
        "    rmse=librosa.feature.rms(data,frame_length=frame_length,hop_length=hop_length)\n",
        "    return np.squeeze(rmse)\n",
        "def mfcc(data,sr,frame_length=2048,hop_length=512,flatten:bool=True):\n",
        "    mfcc=librosa.feature.mfcc(data,sr=sr)\n",
        "    return np.squeeze(mfcc.T)if not flatten else np.ravel(mfcc.T)\n",
        "\n",
        "def extract_features(data,sr,frame_length=2048,hop_length=512):\n",
        "    result=np.array([])\n",
        "\n",
        "    result=np.hstack((result,\n",
        "                      zcr(data,frame_length,hop_length),\n",
        "                      rmse(data,frame_length,hop_length),\n",
        "                      mfcc(data,sr,frame_length,hop_length)\n",
        "                     ))\n",
        "    return result\n",
        "\n",
        "def get_features(path,duration=2.5, offset=0.6):\n",
        "    data,sr=librosa.load(path,duration=duration,offset=offset)\n",
        "    aud=extract_features(data,sr)\n",
        "    audio=np.array(aud)\n",
        "\n",
        "    noised_audio=add_noise(data,random=True)\n",
        "    aud2=extract_features(noised_audio,sr)\n",
        "    audio=np.vstack((audio,aud2))\n",
        "\n",
        "    pitched_audio=pitching(data,sr,random=True)\n",
        "    aud3=extract_features(pitched_audio,sr)\n",
        "    audio=np.vstack((audio,aud3))\n",
        "\n",
        "    pitched_audio1=pitching(data,sr,random=True)\n",
        "    pitched_noised_audio=add_noise(pitched_audio1,random=True)\n",
        "    aud4=extract_features(pitched_noised_audio,sr)\n",
        "    audio=np.vstack((audio,aud4))\n",
        "\n",
        "    return audio"
      ],
      "metadata": {
        "execution": {
          "iopub.status.busy": "2022-07-01T06:51:48.725479Z",
          "iopub.execute_input": "2022-07-01T06:51:48.725835Z",
          "iopub.status.idle": "2022-07-01T06:51:48.751371Z",
          "shell.execute_reply.started": "2022-07-01T06:51:48.725805Z",
          "shell.execute_reply": "2022-07-01T06:51:48.749839Z"
        },
        "trusted": true,
        "id": "ItMkebMTJuG9"
      },
      "execution_count": null,
      "outputs": []
    },
    {
      "cell_type": "markdown",
      "source": [
        "<a id=\"14\"></a>\n",
        "## Processing"
      ],
      "metadata": {
        "id": "4ILakpdFJuG9"
      }
    },
    {
      "cell_type": "code",
      "source": [
        "X,Y=[],[]\n",
        "for path,emotion,index in zip(main_df.File_Path,main_df.Emotion,range(main_df.File_Path.shape[0])):\n",
        "    features=get_features(path)\n",
        "    if index%500==0:\n",
        "        print(f'{index} audio has been processed')\n",
        "    for i in features:\n",
        "        X.append(i)\n",
        "        Y.append(emotion)\n",
        "print('Done')"
      ],
      "metadata": {
        "execution": {
          "iopub.status.busy": "2022-07-01T06:51:50.6925Z",
          "iopub.execute_input": "2022-07-01T06:51:50.693309Z",
          "iopub.status.idle": "2022-07-01T08:32:04.52093Z",
          "shell.execute_reply.started": "2022-07-01T06:51:50.693264Z",
          "shell.execute_reply": "2022-07-01T08:32:04.518435Z"
        },
        "trusted": true,
        "id": "mv99qRy3JuG-"
      },
      "execution_count": null,
      "outputs": []
    },
    {
      "cell_type": "code",
      "source": [
        "processed_data_path='./processed_data.csv'"
      ],
      "metadata": {
        "execution": {
          "iopub.status.busy": "2022-07-01T08:32:04.537367Z",
          "iopub.execute_input": "2022-07-01T08:32:04.545088Z",
          "iopub.status.idle": "2022-07-01T08:32:04.566772Z",
          "shell.execute_reply.started": "2022-07-01T08:32:04.545034Z",
          "shell.execute_reply": "2022-07-01T08:32:04.561823Z"
        },
        "trusted": true,
        "id": "qDEey4byJuG-"
      },
      "execution_count": null,
      "outputs": []
    },
    {
      "cell_type": "code",
      "source": [
        "extract=pd.DataFrame(X)\n",
        "extract['Emotion']=Y\n",
        "extract.to_csv(processed_data_path,index=False)\n",
        "extract.head(10)"
      ],
      "metadata": {
        "execution": {
          "iopub.status.busy": "2022-07-01T08:32:04.57656Z",
          "iopub.execute_input": "2022-07-01T08:32:04.58217Z",
          "iopub.status.idle": "2022-07-01T08:35:32.881802Z",
          "shell.execute_reply.started": "2022-07-01T08:32:04.582115Z",
          "shell.execute_reply": "2022-07-01T08:35:32.880519Z"
        },
        "trusted": true,
        "id": "R1hyp7KTJuG-"
      },
      "execution_count": null,
      "outputs": []
    },
    {
      "cell_type": "markdown",
      "source": [
        "<a id=\"15\"></a>\n",
        "# Including Analyzed Audio Features"
      ],
      "metadata": {
        "id": "cgWIkk3sJuG_"
      }
    },
    {
      "cell_type": "code",
      "source": [
        "df=pd.read_csv(processed_data_path)\n",
        "df.shape"
      ],
      "metadata": {
        "execution": {
          "iopub.status.busy": "2022-07-01T08:35:32.885975Z",
          "iopub.execute_input": "2022-07-01T08:35:32.888062Z",
          "iopub.status.idle": "2022-07-01T08:36:05.211223Z",
          "shell.execute_reply.started": "2022-07-01T08:35:32.888016Z",
          "shell.execute_reply": "2022-07-01T08:36:05.209921Z"
        },
        "trusted": true,
        "id": "J6DGGAcxJuG_"
      },
      "execution_count": null,
      "outputs": []
    },
    {
      "cell_type": "code",
      "source": [
        "df=df.fillna(0)\n",
        "print(df.isna().any())\n",
        "df.shape"
      ],
      "metadata": {
        "execution": {
          "iopub.status.busy": "2022-07-01T08:36:05.213361Z",
          "iopub.execute_input": "2022-07-01T08:36:05.214109Z",
          "iopub.status.idle": "2022-07-01T08:36:06.377511Z",
          "shell.execute_reply.started": "2022-07-01T08:36:05.214064Z",
          "shell.execute_reply": "2022-07-01T08:36:06.375985Z"
        },
        "trusted": true,
        "id": "cqnB4aqdJuG_"
      },
      "execution_count": null,
      "outputs": []
    },
    {
      "cell_type": "code",
      "source": [
        "df.head(10)"
      ],
      "metadata": {
        "execution": {
          "iopub.status.busy": "2022-07-01T08:36:06.379737Z",
          "iopub.execute_input": "2022-07-01T08:36:06.380627Z",
          "iopub.status.idle": "2022-07-01T08:36:06.422351Z",
          "shell.execute_reply.started": "2022-07-01T08:36:06.380581Z",
          "shell.execute_reply": "2022-07-01T08:36:06.420989Z"
        },
        "trusted": true,
        "id": "IWwHNNoGJuG_"
      },
      "execution_count": null,
      "outputs": []
    },
    {
      "cell_type": "markdown",
      "source": [
        "<a id=\"16\"></a>\n",
        "# Processing Analyzed Data for Training"
      ],
      "metadata": {
        "id": "nijO0EcOJuHA"
      }
    },
    {
      "cell_type": "code",
      "source": [
        "X=df.drop(labels='Emotion',axis=1)\n",
        "Y=df['Emotion']"
      ],
      "metadata": {
        "execution": {
          "iopub.status.busy": "2022-07-01T08:36:06.42386Z",
          "iopub.execute_input": "2022-07-01T08:36:06.424693Z",
          "iopub.status.idle": "2022-07-01T08:36:06.790697Z",
          "shell.execute_reply.started": "2022-07-01T08:36:06.424633Z",
          "shell.execute_reply": "2022-07-01T08:36:06.789404Z"
        },
        "trusted": true,
        "id": "Uht4lqOcJuHA"
      },
      "execution_count": null,
      "outputs": []
    },
    {
      "cell_type": "code",
      "source": [
        "lb=LabelEncoder()\n",
        "Y=np_utils.to_categorical(lb.fit_transform(Y))\n",
        "print(lb.classes_)\n",
        "Y"
      ],
      "metadata": {
        "execution": {
          "iopub.status.busy": "2022-07-01T08:36:06.792435Z",
          "iopub.execute_input": "2022-07-01T08:36:06.792976Z",
          "iopub.status.idle": "2022-07-01T08:36:06.821801Z",
          "shell.execute_reply.started": "2022-07-01T08:36:06.792937Z",
          "shell.execute_reply": "2022-07-01T08:36:06.819587Z"
        },
        "trusted": true,
        "id": "-Ny_iT86JuHA"
      },
      "execution_count": null,
      "outputs": []
    },
    {
      "cell_type": "markdown",
      "source": [
        "<a id=\"17\"></a>\n",
        "## Train, Test and Validation Spliting"
      ],
      "metadata": {
        "id": "L-vXAyOKJuHA"
      }
    },
    {
      "cell_type": "code",
      "source": [
        "X_train,X_test,y_train,y_test=train_test_split(X,Y,random_state=42,test_size=0.2,shuffle=True)\n",
        "X_train.shape,X_test.shape,y_train.shape,y_test.shape"
      ],
      "metadata": {
        "execution": {
          "iopub.status.busy": "2022-07-01T08:36:06.825315Z",
          "iopub.execute_input": "2022-07-01T08:36:06.826304Z",
          "iopub.status.idle": "2022-07-01T08:36:08.275313Z",
          "shell.execute_reply.started": "2022-07-01T08:36:06.826262Z",
          "shell.execute_reply": "2022-07-01T08:36:08.273808Z"
        },
        "trusted": true,
        "id": "uxK7l5jAJuHB"
      },
      "execution_count": null,
      "outputs": []
    },
    {
      "cell_type": "code",
      "source": [
        "X_train,X_val,y_train,y_val=train_test_split(X_train,y_train,random_state=42,test_size=0.1,shuffle=True)\n",
        "X_train.shape, X_test.shape, X_val.shape, y_train.shape,y_test.shape,y_val.shape"
      ],
      "metadata": {
        "execution": {
          "iopub.status.busy": "2022-07-01T08:36:08.281392Z",
          "iopub.execute_input": "2022-07-01T08:36:08.281701Z",
          "iopub.status.idle": "2022-07-01T08:36:09.527267Z",
          "shell.execute_reply.started": "2022-07-01T08:36:08.281674Z",
          "shell.execute_reply": "2022-07-01T08:36:09.525855Z"
        },
        "trusted": true,
        "id": "O1Crwx5NJuHB"
      },
      "execution_count": null,
      "outputs": []
    },
    {
      "cell_type": "code",
      "source": [
        "scaler=StandardScaler()\n",
        "X_train=scaler.fit_transform(X_train)\n",
        "X_test=scaler.transform(X_test)\n",
        "X_val=scaler.transform(X_val)\n",
        "X_train.shape,X_test.shape,X_val.shape,y_train.shape,y_test.shape,y_val.shape"
      ],
      "metadata": {
        "execution": {
          "iopub.status.busy": "2022-07-01T08:36:09.530003Z",
          "iopub.execute_input": "2022-07-01T08:36:09.53082Z",
          "iopub.status.idle": "2022-07-01T08:36:11.601621Z",
          "shell.execute_reply.started": "2022-07-01T08:36:09.530762Z",
          "shell.execute_reply": "2022-07-01T08:36:11.600193Z"
        },
        "trusted": true,
        "id": "9Hw2rVKqJuHB"
      },
      "execution_count": null,
      "outputs": []
    },
    {
      "cell_type": "code",
      "source": [
        "X_train=np.expand_dims(X_train,axis=2)\n",
        "X_val=np.expand_dims(X_val,axis=2)\n",
        "X_test=np.expand_dims(X_test,axis=2)\n",
        "X_train.shape, X_test.shape, X_val.shape"
      ],
      "metadata": {
        "execution": {
          "iopub.status.busy": "2022-07-01T08:36:11.606986Z",
          "iopub.execute_input": "2022-07-01T08:36:11.609841Z",
          "iopub.status.idle": "2022-07-01T08:36:11.626435Z",
          "shell.execute_reply.started": "2022-07-01T08:36:11.609765Z",
          "shell.execute_reply": "2022-07-01T08:36:11.624048Z"
        },
        "trusted": true,
        "id": "4_S4czXDJuHB"
      },
      "execution_count": null,
      "outputs": []
    },
    {
      "cell_type": "markdown",
      "source": [
        "<a id=\"18\"></a>\n",
        "## Tuning for Training"
      ],
      "metadata": {
        "id": "oqeNIe4bJuHB"
      }
    },
    {
      "cell_type": "code",
      "source": [
        "early_stop=EarlyStopping(monitor='val_acc',mode='auto',patience=5,restore_best_weights=True)\n",
        "lr_reduction=ReduceLROnPlateau(monitor='val_acc',patience=3,verbose=1,factor=0.5,min_lr=0.00001)"
      ],
      "metadata": {
        "execution": {
          "iopub.status.busy": "2022-07-01T08:36:11.628925Z",
          "iopub.execute_input": "2022-07-01T08:36:11.630018Z",
          "iopub.status.idle": "2022-07-01T08:36:11.644878Z",
          "shell.execute_reply.started": "2022-07-01T08:36:11.629973Z",
          "shell.execute_reply": "2022-07-01T08:36:11.643384Z"
        },
        "trusted": true,
        "id": "CpO4jDU2JuHC"
      },
      "execution_count": null,
      "outputs": []
    },
    {
      "cell_type": "code",
      "source": [
        "EPOCH=50\n",
        "BATCH_SIZE=64"
      ],
      "metadata": {
        "execution": {
          "iopub.status.busy": "2022-07-01T09:22:30.751975Z",
          "iopub.execute_input": "2022-07-01T09:22:30.752445Z",
          "iopub.status.idle": "2022-07-01T09:22:30.759041Z",
          "shell.execute_reply.started": "2022-07-01T09:22:30.752414Z",
          "shell.execute_reply": "2022-07-01T09:22:30.757032Z"
        },
        "trusted": true,
        "id": "QOwfIzkxJuHC"
      },
      "execution_count": null,
      "outputs": []
    },
    {
      "cell_type": "markdown",
      "source": [
        "<a id=\"19\"></a>\n",
        "# Begin Training"
      ],
      "metadata": {
        "id": "I8HTe4YGJuHC"
      }
    },
    {
      "cell_type": "code",
      "source": [
        "model=tf.keras.Sequential([\n",
        "    L.Conv1D(512,kernel_size=5, strides=1,padding='same', activation='relu',input_shape=(X_train.shape[1],1)),\n",
        "    L.BatchNormalization(),\n",
        "    L.MaxPool1D(pool_size=5,strides=2,padding='same'),\n",
        "    L.Conv1D(512,kernel_size=5,strides=1,padding='same',activation='relu'),\n",
        "    L.BatchNormalization(),\n",
        "    L.MaxPool1D(pool_size=5,strides=2,padding='same'),\n",
        "    L.Conv1D(256,kernel_size=5,strides=1,padding='same',activation='relu'),\n",
        "    L.BatchNormalization(),\n",
        "    L.MaxPool1D(pool_size=5,strides=2,padding='same'),\n",
        "    L.Conv1D(256,kernel_size=3,strides=1,padding='same',activation='relu'),\n",
        "    L.BatchNormalization(),\n",
        "    L.MaxPool1D(pool_size=5,strides=2,padding='same'),\n",
        "    L.Conv1D(128,kernel_size=3,strides=1,padding='same',activation='relu'),\n",
        "    L.BatchNormalization(),\n",
        "    L.MaxPool1D(pool_size=3,strides=2,padding='same'),\n",
        "    L.Flatten(),\n",
        "    L.Dense(512,activation='relu'),\n",
        "    L.BatchNormalization(),\n",
        "    L.Dense(7,activation='softmax')\n",
        "])\n",
        "model.compile(optimizer='adam',loss='categorical_crossentropy',metrics='accuracy')\n",
        "model.summary()"
      ],
      "metadata": {
        "execution": {
          "iopub.status.busy": "2022-07-01T09:22:38.928325Z",
          "iopub.execute_input": "2022-07-01T09:22:38.928719Z",
          "iopub.status.idle": "2022-07-01T09:22:39.149113Z",
          "shell.execute_reply.started": "2022-07-01T09:22:38.928691Z",
          "shell.execute_reply": "2022-07-01T09:22:39.147832Z"
        },
        "trusted": true,
        "id": "ExJ3B5evJuHC"
      },
      "execution_count": null,
      "outputs": []
    },
    {
      "cell_type": "code",
      "source": [
        "history=model.fit(X_train, y_train, epochs=EPOCH, validation_data=(X_val,y_val), batch_size=BATCH_SIZE,callbacks=[early_stop,lr_reduction])"
      ],
      "metadata": {
        "execution": {
          "iopub.status.busy": "2022-07-01T09:22:45.680903Z",
          "iopub.execute_input": "2022-07-01T09:22:45.681729Z",
          "iopub.status.idle": "2022-07-01T10:39:10.74167Z",
          "shell.execute_reply.started": "2022-07-01T09:22:45.681696Z",
          "shell.execute_reply": "2022-07-01T10:39:10.740358Z"
        },
        "trusted": true,
        "id": "lCtl9pQ6JuHC"
      },
      "execution_count": null,
      "outputs": []
    },
    {
      "cell_type": "markdown",
      "source": [
        "<a id=\"20\"></a>\n",
        "# Drawing Charts"
      ],
      "metadata": {
        "id": "QY1fViwmJuHD"
      }
    },
    {
      "cell_type": "markdown",
      "source": [
        "<a id=\"21\"></a>\n",
        "## Accuracy Charts"
      ],
      "metadata": {
        "id": "h486dEWSJuHD"
      }
    },
    {
      "cell_type": "code",
      "source": [
        "fig=px.line(history.history,y=['accuracy','val_accuracy'],\n",
        "           labels={'index':'epoch','value':'accuracy'},\n",
        "           title=f'According to the epoch accuracy and validation accuracy chart for the model')\n",
        "fig.show()"
      ],
      "metadata": {
        "execution": {
          "iopub.status.busy": "2022-07-01T12:20:10.573231Z",
          "iopub.execute_input": "2022-07-01T12:20:10.574158Z",
          "iopub.status.idle": "2022-07-01T12:20:10.66391Z",
          "shell.execute_reply.started": "2022-07-01T12:20:10.574122Z",
          "shell.execute_reply": "2022-07-01T12:20:10.662422Z"
        },
        "trusted": true,
        "id": "yISEcJB4JuHD"
      },
      "execution_count": null,
      "outputs": []
    },
    {
      "cell_type": "markdown",
      "source": [
        "<a id=\"22\"></a>\n",
        "## Loss Charts"
      ],
      "metadata": {
        "id": "6l4xb7EKJuHD"
      }
    },
    {
      "cell_type": "code",
      "source": [
        "fig=px.line(history.history,y=['loss','val_loss'],\n",
        "           labels={'index':'epoch','value':'loss'},\n",
        "           title=f'According to the epoch loss and validation loss chart for the model')\n",
        "fig.show()"
      ],
      "metadata": {
        "execution": {
          "iopub.status.busy": "2022-07-01T12:20:17.069939Z",
          "iopub.execute_input": "2022-07-01T12:20:17.070399Z",
          "iopub.status.idle": "2022-07-01T12:20:17.156963Z",
          "shell.execute_reply.started": "2022-07-01T12:20:17.070365Z",
          "shell.execute_reply": "2022-07-01T12:20:17.155215Z"
        },
        "trusted": true,
        "id": "LuZESfUjJuHD"
      },
      "execution_count": null,
      "outputs": []
    },
    {
      "cell_type": "markdown",
      "source": [
        "<a id=\"24\"></a>\n",
        "# Testing Model and Test Results"
      ],
      "metadata": {
        "id": "9AGjumerJuHE"
      }
    },
    {
      "cell_type": "code",
      "source": [
        "y_pred = model.predict(X_test)\n",
        "y_pred = np.argmax(y_pred, axis=1)\n",
        "y_pred"
      ],
      "metadata": {
        "execution": {
          "iopub.status.busy": "2022-07-01T11:11:20.420009Z",
          "iopub.execute_input": "2022-07-01T11:11:20.420397Z",
          "iopub.status.idle": "2022-07-01T11:11:27.36655Z",
          "shell.execute_reply.started": "2022-07-01T11:11:20.420368Z",
          "shell.execute_reply": "2022-07-01T11:11:27.365029Z"
        },
        "trusted": true,
        "id": "LfCQZ3vnJuHE"
      },
      "execution_count": null,
      "outputs": []
    },
    {
      "cell_type": "code",
      "source": [
        "y_check=np.argmax(y_test,axis=1)\n",
        "y_check"
      ],
      "metadata": {
        "execution": {
          "iopub.status.busy": "2022-07-01T11:22:36.286312Z",
          "iopub.execute_input": "2022-07-01T11:22:36.286692Z",
          "iopub.status.idle": "2022-07-01T11:22:36.296838Z",
          "shell.execute_reply.started": "2022-07-01T11:22:36.286661Z",
          "shell.execute_reply": "2022-07-01T11:22:36.29535Z"
        },
        "trusted": true,
        "id": "ub2Ca1k6JuHE"
      },
      "execution_count": null,
      "outputs": []
    },
    {
      "cell_type": "code",
      "source": [
        "loss,accuracy=model.evaluate(X_test,y_test,verbose=0)\n",
        "print(f'Test Loss: {loss}')\n",
        "print(f'Test Accuracy: {accuracy}')"
      ],
      "metadata": {
        "execution": {
          "iopub.status.busy": "2022-07-01T11:12:26.770294Z",
          "iopub.execute_input": "2022-07-01T11:12:26.770717Z",
          "iopub.status.idle": "2022-07-01T11:12:33.968584Z",
          "shell.execute_reply.started": "2022-07-01T11:12:26.770687Z",
          "shell.execute_reply": "2022-07-01T11:12:33.967149Z"
        },
        "trusted": true,
        "id": "PlfCwAR1JuHE"
      },
      "execution_count": null,
      "outputs": []
    },
    {
      "cell_type": "markdown",
      "source": [
        "<a id=\"25\"></a>\n",
        "## Confusion Matrix"
      ],
      "metadata": {
        "id": "3RvOl8M7JuHE"
      }
    },
    {
      "cell_type": "code",
      "source": [
        "conf=confusion_matrix(y_check,y_pred)\n",
        "cm=pd.DataFrame(\n",
        "    conf,index=[i for i in emotion_names],\n",
        "    columns=[i for i in emotion_names]\n",
        ")\n",
        "plt.figure(figsize=(12,7))\n",
        "ax=sns.heatmap(cm,annot=True,fmt='d')\n",
        "ax.set_title(f'confusion matrix for model ')\n",
        "plt.show()"
      ],
      "metadata": {
        "execution": {
          "iopub.status.busy": "2022-07-01T11:22:57.755895Z",
          "iopub.execute_input": "2022-07-01T11:22:57.756325Z",
          "iopub.status.idle": "2022-07-01T11:22:58.264051Z",
          "shell.execute_reply.started": "2022-07-01T11:22:57.756296Z",
          "shell.execute_reply": "2022-07-01T11:22:58.262837Z"
        },
        "trusted": true,
        "id": "ljmt0C3IJuHE"
      },
      "execution_count": null,
      "outputs": []
    },
    {
      "cell_type": "code",
      "source": [
        "print(f'Model Confusion Matrix\\n',classification_report(y_check,y_pred,target_names=emotion_names))"
      ],
      "metadata": {
        "execution": {
          "iopub.status.busy": "2022-07-01T11:24:29.144175Z",
          "iopub.execute_input": "2022-07-01T11:24:29.144726Z",
          "iopub.status.idle": "2022-07-01T11:24:29.178353Z",
          "shell.execute_reply.started": "2022-07-01T11:24:29.144659Z",
          "shell.execute_reply": "2022-07-01T11:24:29.17681Z"
        },
        "trusted": true,
        "id": "UMo9ttSJJuHF"
      },
      "execution_count": null,
      "outputs": []
    },
    {
      "cell_type": "code",
      "source": [
        "model_path = \"./res_model.h5\"\n",
        "\n",
        "model.save(model_path)"
      ],
      "metadata": {
        "id": "d8At5NhYJuHF"
      },
      "execution_count": null,
      "outputs": []
    }
  ]
}